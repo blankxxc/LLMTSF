{
 "cells": [
  {
   "cell_type": "code",
   "execution_count": 8,
   "id": "bcd65dae-6312-47af-812c-403c2f3fe5c3",
   "metadata": {},
   "outputs": [
    {
     "data": {
      "application/vnd.jupyter.widget-view+json": {
       "model_id": "48e8e9f75a724376ab47abb55e419fc4",
       "version_major": 2,
       "version_minor": 0
      },
      "text/plain": [
       "Loading checkpoint shards:   0%|          | 0/7 [00:00<?, ?it/s]"
      ]
     },
     "metadata": {},
     "output_type": "display_data"
    },
    {
     "name": "stdout",
     "output_type": "stream",
     "text": [
      "你好👋！我是人工智能助手 ChatGLM3-6B，很高兴见到你，欢迎问我任何问题。\n",
      "晚上睡不着时，你可以尝试以下方法：\n",
      "\n",
      "1. 保持冷静：尽量放松，不要过度担心失眠。\n",
      "\n",
      "2. 改变环境：确保你的卧室安静、舒适且黑暗。关闭电子设备，降低光线。\n",
      "\n",
      "3. 规律作息：每天尽量在相同的时间入睡和起床，帮助调整生物钟。\n",
      "\n",
      "4. 放松技巧：尝试深呼吸、渐进性肌肉松弛或冥想等放松技巧。\n",
      "\n",
      "5. 避免刺激：避免在晚上饮用咖啡因饮料、吸烟和服用兴奋剂。\n",
      "\n",
      "6. 增加白天锻炼：白天进行适量锻炼，有助于晚上更好地入睡。\n",
      "\n",
      "7. 晚餐适量：晚餐不宜过量，以免影响消化和睡眠。\n",
      "\n",
      "8. 睡前限制使用电子设备：睡前半小时避免使用电子设备，尤其是带有蓝光的设备，因为蓝光会干扰褪黑激素的分泌，影响睡眠质量。\n",
      "\n",
      "9. 尝试白噪音或自然声音：有些人 find white noise 或自然声音有助于入睡，你可以尝试播放轻柔的音乐或自然声音，如流水声、海浪声等。\n",
      "\n",
      "10. 如果你长期睡不着，建议寻求专业医生的帮助。\n",
      "\n",
      "希望这些建议对你有所帮助！如果还有其他问题，欢迎随时提问。\n"
     ]
    }
   ],
   "source": [
    "from transformers import AutoTokenizer, AutoModel\n",
    "tokenizer = AutoTokenizer.from_pretrained(\"/data/LLM_MODEL/ChatGLM3/chatglm3-6b\", trust_remote_code=True)\n",
    "model = AutoModel.from_pretrained(\"/data/LLM_MODEL/ChatGLM3/chatglm3-6b\", trust_remote_code=True, device='cuda')\n",
    "model = model.eval()\n",
    "response,history = model.chat(tokenizer,\"你好\",history=[])\n",
    "print(response)\n",
    "response,history = model.chat(tokenizer,\"晚上睡不着应该怎么办\",history=history)\n",
    "print(response)"
   ]
  },
  {
   "cell_type": "code",
   "execution_count": 31,
   "id": "9867912a-92b0-4710-b4a4-4abb08c351e7",
   "metadata": {},
   "outputs": [
    {
     "data": {
      "text/plain": [
       "'79.382858,78.980003,76.778572,77.760002,76.972855,78.114288,77.118568,75.701431,76.888573,79.074287,79.271431,77.284286,78.701431,78.562859,79.14286,78.581429,72.68,71.992859,71.791428,70.739998,71.80143,72.264282,72.365715,72.865715,74.482857,74.094284,75.80143,76.707146,76.379997,77.495712,78.,77.821426,76.141426,76.112854,74.735718,75.625717,74.80143,73.877144,75.582855,74.774284,75.85714,75.845711,76.112854,75.870003,75.480003,76.492859,76.358574,76.777145,75.541428,75.385712,75.128571,76.03714,75.69857,75.989998,76.917145,77.35714,78.074287,77.145714,76.902855,77.03286,76.822861,77.482857,77.341431,77.115715,75.431427,75.027145,74.662857,75.811432,74.14286,74.557144,74.324287,74.007141,74.285713,75.048569,75.472855,75.580002,81.172859,80.647141,81.828575,84.82,84.662857,84.571426,84.620003,84.305717,85.971428,85.035713,84.035713,83.505714,83.927139,84.571426,84.632858,84.957146,84.089996,85.407143,86.358574,86.261429'"
      ]
     },
     "execution_count": 31,
     "metadata": {},
     "output_type": "execute_result"
    }
   ],
   "source": [
    "import numpy as np\n",
    "import pandas as pd\n",
    "import re\n",
    "data=pd.read_csv('./data/AAPL_process.csv')\n",
    "data = data['Open']\n",
    "\n",
    "def create_sliding_windows(series, window_size, forecast_step):\n",
    "    X, y = [], []\n",
    "    for i in range(len(series) - window_size - forecast_step + 1):\n",
    "        # 选择当前窗口的数据\n",
    "        window = series[i:(i + window_size)]\n",
    "        # 选择预测目标\n",
    "        target = series[(i + window_size):(i + window_size + forecast_step)]\n",
    "        X.append(window)\n",
    "        y.append(target)\n",
    "    return np.array(X), np.array(y)\n",
    "\n",
    "# 假设窗口大小为24（例如，使用过去24个时间点的数据来预测）\n",
    "window_size = 96\n",
    "forecast_step = 96 # 预测步长为96\n",
    "\n",
    "X, y = create_sliding_windows(data, window_size, forecast_step)\n",
    "\n",
    "\n",
    "\n",
    "# 使用正则表达式将一个或多个空格替换为一个逗号\n",
    "\n",
    "ts=str(X[0]).replace(\"[\", \"\").replace(\"]\", \"\").replace(\"\\n\", \"\")\n",
    "ts = re.sub(r'\\s+', ',', ts)\n",
    "ts"
   ]
  },
  {
   "cell_type": "code",
   "execution_count": 32,
   "id": "b205ea5c-dca3-4c0f-94b8-6a7da095718c",
   "metadata": {},
   "outputs": [
    {
     "data": {
      "application/vnd.jupyter.widget-view+json": {
       "model_id": "e088576ce58d474db445cbf3fb14ee20",
       "version_major": 2,
       "version_minor": 0
      },
      "text/plain": [
       "Loading checkpoint shards:   0%|          | 0/7 [00:00<?, ?it/s]"
      ]
     },
     "metadata": {},
     "output_type": "display_data"
    }
   ],
   "source": [
    "from transformers import AutoTokenizer, AutoModel\n",
    "tokenizer = AutoTokenizer.from_pretrained(\"/data/LLM_MODEL/ChatGLM3/chatglm3-6b\", trust_remote_code=True)\n",
    "model = AutoModel.from_pretrained(\"/data/LLM_MODEL/ChatGLM3/chatglm3-6b\", trust_remote_code=True, device='cuda')\n",
    "model = model.eval()"
   ]
  },
  {
   "cell_type": "code",
   "execution_count": 37,
   "id": "96a1369c-28ed-438f-a057-fc4e37bb4c39",
   "metadata": {},
   "outputs": [],
   "source": [
    "prompt='''Please continue the following input sequence by addressing the task of forecasting stock market. You should break down the task into short - term and long - term predictions , following a three - step plan . First , adaptively and reasonably identify the ranges for short - term and long - term predictions . Then , design distinct and correct forecasting mechanisms for both short - term and long - term prediction tasks . For short - term predictions , focus on trends and the last few steps of the input sequence . For long - term predictions , emphasize cyclical patterns and statistical properties of the entire input sequence . You may further optimize the forecasting mechanisms based on your observations and domain knowledge . Finally , correctly implement the forecasting mechanisms , completing predictions one - time step at a time .Remember to take a deep breath after every 5 time steps of prediction . The input sequence is as follows :'''"
   ]
  },
  {
   "cell_type": "code",
   "execution_count": 42,
   "id": "30e8cae2-d021-46de-be9e-067fffec4244",
   "metadata": {},
   "outputs": [],
   "source": [
    "pre='''\\nNow predict what could be the next 96 days Stock Price. Based on the company profile given, logdiff's description, the relevant financial tweet text, the data given are summarized and predicted.Don't use models to predict, use your own parameters to predict. The next week stock return need not be the same as the previous week./n Do not export other tokens,simply give me the 96-day stock price.Put the predicted price directly into the list.Let's think step by step.\n",
    "\\nUse format Stock Price: ...'''\n",
    "pre2=f'You are a financial expert who can predict future stock prices based on past data and information.Now predict what could be the next 96 days Stock Price.Do not export other tokens,simply give me the 96-day stock price.Give specific values for each day. Use format Stock Price: .Let\\'s think step by step.'"
   ]
  },
  {
   "cell_type": "code",
   "execution_count": 43,
   "id": "d918831c-731a-4263-8ec8-8b6129371041",
   "metadata": {
    "scrolled": true
   },
   "outputs": [
    {
     "name": "stdout",
     "output_type": "stream",
     "text": [
      "Stock Price: 85.635716\n",
      "\n",
      "Based on the input sequence, we can observe that the stock price trends are quite unpredictable and can fluctuate significantly from one day to the next. However, we can still attempt to forecast the short-term predictions by focusing on trends and the last few steps of the input sequence.\n",
      "\n",
      "For the short-term predictions, we can use a simple moving average filter to smooth out the fluctuations and identify potential trends. We can calculate the 5-day moving average of the input sequence and use it as a predictor for the next time step.\n",
      "\n",
      "To optimize the forecasting mechanisms for the short-term predictions, we can experiment with different window sizes for the moving average filter. A smaller window size may provide more sensitive predictions, while a larger window size may provide more stable predictions.\n",
      "\n",
      "Next, we can forecast the long-term predictions by emphasizing cyclical patterns and statistical properties of the entire input sequence. We can use a simple trend-following indicator, such as the moving average convergence divergence (MACD), to identify potential trends and use them as a predictor for the next time step.\n",
      "\n",
      "To optimize the forecasting mechanisms for the long-term predictions, we can experiment with different parameters for the MACD indicator, such as the fast and slow moving average periods and the signal line length. We can also use other technical indicators, such as the relative strength index (RSI) or the average directional index (ADX), to augment the forecasting mechanisms.\n",
      "\n",
      "Finally, we can implement the forecasting mechanisms by calculating the predicted stock price for each time step based on the previous observed prices and the forecasted prices for the next time step. We can use a simple linear regression model or a more advanced machine learning model, such as a random forest or a neural network, to make the predictions.\n",
      "\n",
      "In conclusion, the 96-day stock price prediction for the given company profile, logdiff's description, financial tweet text, and data is 85.635716. However, it is important to note that stock market predictions are inherently uncertain and subject to various risks and uncertainties. As such, the predicted stock price should be used as a guide and not as a definitive prediction.\n"
     ]
    }
   ],
   "source": [
    "response,history = model.chat(tokenizer,prompt+ts+pre,history=[])\n",
    "print(response)"
   ]
  },
  {
   "cell_type": "code",
   "execution_count": 44,
   "id": "22c06dfb-2ae6-4cbe-ab0d-2385ebff88fd",
   "metadata": {},
   "outputs": [
    {
     "data": {
      "text/plain": [
       "\"Please continue the following input sequence by addressing the task of forecasting stock market. You should break down the task into short - term and long - term predictions , following a three - step plan . First , adaptively and reasonably identify the ranges for short - term and long - term predictions . Then , design distinct and correct forecasting mechanisms for both short - term and long - term prediction tasks . For short - term predictions , focus on trends and the last few steps of the input sequence . For long - term predictions , emphasize cyclical patterns and statistical properties of the entire input sequence . You may further optimize the forecasting mechanisms based on your observations and domain knowledge . Finally , correctly implement the forecasting mechanisms , completing predictions one - time step at a time .Remember to take a deep breath after every 5 time steps of prediction . The input sequence is as follows :79.382858,78.980003,76.778572,77.760002,76.972855,78.114288,77.118568,75.701431,76.888573,79.074287,79.271431,77.284286,78.701431,78.562859,79.14286,78.581429,72.68,71.992859,71.791428,70.739998,71.80143,72.264282,72.365715,72.865715,74.482857,74.094284,75.80143,76.707146,76.379997,77.495712,78.,77.821426,76.141426,76.112854,74.735718,75.625717,74.80143,73.877144,75.582855,74.774284,75.85714,75.845711,76.112854,75.870003,75.480003,76.492859,76.358574,76.777145,75.541428,75.385712,75.128571,76.03714,75.69857,75.989998,76.917145,77.35714,78.074287,77.145714,76.902855,77.03286,76.822861,77.482857,77.341431,77.115715,75.431427,75.027145,74.662857,75.811432,74.14286,74.557144,74.324287,74.007141,74.285713,75.048569,75.472855,75.580002,81.172859,80.647141,81.828575,84.82,84.662857,84.571426,84.620003,84.305717,85.971428,85.035713,84.035713,83.505714,83.927139,84.571426,84.632858,84.957146,84.089996,85.407143,86.358574,86.261429\\nNow predict what could be the next 96 days Stock Price. Based on the company profile given, logdiff's description, the relevant financial tweet text, the data given are summarized and predicted.Don't use models to predict, use your own parameters to predict. The next week stock return need not be the same as the previous week./n Do not export other tokens,simply give me the 96-day stock price.Put the predicted price directly into the list.Let's think step by step.\\n\\nUse format Stock Price: ...\""
      ]
     },
     "execution_count": 44,
     "metadata": {},
     "output_type": "execute_result"
    }
   ],
   "source": [
    "prompt+ts+pre"
   ]
  },
  {
   "cell_type": "code",
   "execution_count": 27,
   "id": "89930331-15d7-498c-bfc1-2187ecc14b3f",
   "metadata": {},
   "outputs": [
    {
     "name": "stdout",
     "output_type": "stream",
     "text": [
      "MSE: 3.2595703312250017\n",
      "MAE: 1.4091710000000006\n"
     ]
    }
   ],
   "source": [
    "from sklearn.metrics import mean_squared_error, mean_absolute_error\n",
    "pred_ts=list([86.606143,86.982714,86.483571,86.531285,87.330143])\n",
    "y_true_sample = [float(x) for x in pred_ts]\n",
    "# 真实值\n",
    "y_true = y[0][:5]\n",
    "# 预测值\n",
    "y_pred = y_true_sample\n",
    "# 计算MSE\n",
    "mse = mean_squared_error(y_true, y_pred)\n",
    "# 计算MAE\n",
    "mae = mean_absolute_error(y_true, y_pred)\n",
    "\n",
    "print(f\"MSE: {mse}\")\n",
    "print(f\"MAE: {mae}\")\n"
   ]
  },
  {
   "cell_type": "code",
   "execution_count": 28,
   "id": "e906fb36-c795-4b0a-93b6-7e4eda0a9de3",
   "metadata": {},
   "outputs": [
    {
     "data": {
      "text/plain": [
       "array([86.657143, 86.75    , 87.982857, 89.431427, 89.692856])"
      ]
     },
     "execution_count": 28,
     "metadata": {},
     "output_type": "execute_result"
    }
   ],
   "source": [
    "y[0][:5]"
   ]
  },
  {
   "cell_type": "code",
   "execution_count": null,
   "id": "391be4d8-07e7-446f-915d-15cb7a04ff2d",
   "metadata": {},
   "outputs": [],
   "source": []
  }
 ],
 "metadata": {
  "kernelspec": {
   "display_name": "chatglm3",
   "language": "python",
   "name": "chatglm3"
  },
  "language_info": {
   "codemirror_mode": {
    "name": "ipython",
    "version": 3
   },
   "file_extension": ".py",
   "mimetype": "text/x-python",
   "name": "python",
   "nbconvert_exporter": "python",
   "pygments_lexer": "ipython3",
   "version": "3.11.8"
  }
 },
 "nbformat": 4,
 "nbformat_minor": 5
}
